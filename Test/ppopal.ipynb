{
 "cells": [
  {
   "cell_type": "code",
   "execution_count": null,
   "id": "dc1913de-2985-44a0-99ff-f6954d0d3966",
   "metadata": {},
   "outputs": [],
   "source": [
    "%matplotlib inline\n",
    "import numpy as np\n",
    "from matplotlib import pyplot as plt\n",
    "from sompy.sompy import SOMFactory\n",
    "\n",
    "import matplotlib.pyplot as plt\n",
    "import pandas as pd\n",
    "import numpy as np\n",
    "import sklearn as sk\n",
    "from matplotlib.colors import ListedColormap\n",
    "from sklearn import datasets\n",
    "from sklearn import preprocessing\n",
    "from mpl_toolkits.basemap import Basemap\n",
    "from sklearn_som.som import SOM\n",
    "from pandas import *\n",
    "from scipy.cluster.hierarchy import linkage, dendrogram\n",
    "import random\n",
    "import joblib\n",
    "import math\n",
    "import glob\n",
    "from scipy.cluster.hierarchy import dendrogram\n",
    "\n",
    "from sklearn.cluster import AgglomerativeClustering"
   ]
  },
  {
   "cell_type": "code",
   "execution_count": null,
   "id": "03819422-664d-4e8b-a618-f6cca6eaa02a",
   "metadata": {},
   "outputs": [],
   "source": [
    "df = pd.read_csv(\"ecomon_chla.csv\")\n",
    "\n",
    "df = df[['UTC_DATETIME', 'latitude', 'longitude', 'depth', 'pressure_dbars', 'sea_water_temperature', 'sea_water_salinity',\n",
    "         'dissolved_oxygen', 'fluorescence', 'par_sensor', 'cast_number', 'cruise_id', 'purpose_code', 'bottom_depth','GEAR_TYPE']]\n",
    "clustering_vars = [\"latitude\",\"longitude\",\"depth\",\"fluorescence\"]\n",
    "df = df.fillna(0)\n",
    "data = df[clustering_vars].values\n",
    "N = 1000\n",
    "data = data[:N]\n",
    "names = clustering_vars"
   ]
  },
  {
   "cell_type": "code",
   "execution_count": null,
   "id": "4c60417e-ffaa-403f-9fb6-31da61254183",
   "metadata": {},
   "outputs": [],
   "source": [
    "chl = data[:,3]\n",
    "dep = data[:,2]\n",
    "\n",
    "print(chl[1])"
   ]
  },
  {
   "cell_type": "code",
   "execution_count": null,
   "id": "ee0fbd3b-cf6f-41d6-9500-c15a50e72b4c",
   "metadata": {},
   "outputs": [],
   "source": [
    "c_tot = []\n",
    "for x in range(N):\n",
    "    achl = chl[x]\n",
    "    if achl < 1:\n",
    "        c_tt = 38.0 * float(achl)**0.425 #CALCULATE 'TOTAL PIGMENT CONTENT' ~ CHLOR_EUPHOTIC (MG CHL M-2) FROM CPD\n",
    "        c_tot.append(c_tt) #MOREL AND BERTHON (1989) PAGE 1550, TABLE 2, EQUATIONS 2B, 2C\n",
    "    elif achl > 1:\n",
    "        c_tt = 40.2* float(achl)**0.507\n",
    "        c_tot.append(c_tt)\n",
    "\n",
    "print(c_tot)"
   ]
  },
  {
   "cell_type": "code",
   "execution_count": null,
   "id": "f165b843-8f42-4728-8584-e47973846c90",
   "metadata": {},
   "outputs": [],
   "source": [
    "NN = len(c_tot)\n",
    "z_eu = []\n",
    "for x in range(NN):\n",
    "    ct = c_tot[x]\n",
    "    if ct > 10:\n",
    "        ze = 568.2*ct**(-0.746) # CALCULATE DEPTH OF EUPHOTIC LAYER USING MOREL'S CASE I MODEL,(M)\n",
    "        z_eu.append(ze)\n",
    "    elif ct <10:\n",
    "        ze = 200.0*ct**(-0.293)\n",
    "        z_eu.append(ze)\n",
    "\n",
    "print(z_eu)"
   ]
  },
  {
   "cell_type": "code",
   "execution_count": null,
   "id": "0cdf0b0b-26b5-47b1-a44f-c9e6684152de",
   "metadata": {},
   "outputs": [],
   "source": [
    "plt.scatter(c_tot, z_eu)\n",
    "plt.xlabel('Range of integrated pigment content')\n",
    "plt.ylabel('Euphotic depth')\n",
    "plt.title('C_TOT vs Z_EU')\n"
   ]
  },
  {
   "cell_type": "code",
   "execution_count": null,
   "id": "38209375-913e-4ec0-a473-cba61344cdb8",
   "metadata": {},
   "outputs": [],
   "source": [
    "plt.scatter(chl, dep)\n",
    "plt.xlabel('Fluorescence')\n",
    "plt.ylabel('Depth')\n",
    "plt.title('EcoMon')\n"
   ]
  },
  {
   "cell_type": "code",
   "execution_count": null,
   "id": "c542ada8-6901-4ab4-b3a6-ae88a54d8113",
   "metadata": {},
   "outputs": [],
   "source": []
  }
 ],
 "metadata": {
  "kernelspec": {
   "display_name": "Python 3 (ipykernel)",
   "language": "python",
   "name": "python3"
  },
  "language_info": {
   "codemirror_mode": {
    "name": "ipython",
    "version": 3
   },
   "file_extension": ".py",
   "mimetype": "text/x-python",
   "name": "python",
   "nbconvert_exporter": "python",
   "pygments_lexer": "ipython3",
   "version": "3.11.7"
  }
 },
 "nbformat": 4,
 "nbformat_minor": 5
}
