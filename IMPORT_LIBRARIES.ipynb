{
 "cells": [
  {
   "cell_type": "markdown",
   "id": "95624eb6-d911-4465-a781-798c0404f812",
   "metadata": {},
   "source": [
    "# Import common libraries\n",
    "### Call this before starting any notebook"
   ]
  },
  {
   "cell_type": "code",
   "execution_count": 1,
   "id": "a7eaa3db-554a-4b51-b3dd-20618f94588b",
   "metadata": {},
   "outputs": [],
   "source": [
    "import os\n",
    "import urllib.request\n",
    "import xarray as xr\n",
    "import numpy as np\n",
    "import warnings\n",
    "warnings.filterwarnings('ignore')\n",
    "from datetime import datetime\n",
    "%matplotlib inline\n",
    "import numpy as np\n",
    "from matplotlib import pyplot as plt\n",
    "from sompy.sompy import SOMFactory\n",
    "import pandas as pd\n",
    "import numpy as np\n",
    "import sklearn as sk\n",
    "from matplotlib.colors import ListedColormap\n",
    "from sklearn import datasets\n",
    "from sklearn import preprocessing\n",
    "from mpl_toolkits.basemap import Basemap\n",
    "from sklearn_som.som import SOM\n",
    "from pandas import *\n",
    "from scipy.cluster.hierarchy import linkage, dendrogram\n",
    "import random\n",
    "import joblib\n",
    "import math\n",
    "import glob\n",
    "from scipy.cluster.hierarchy import dendrogram\n",
    "from sklearn.cluster import AgglomerativeClustering"
   ]
  },
  {
   "cell_type": "code",
   "execution_count": null,
   "id": "b1ee3c33-88a8-466f-bac8-2ce9e6183bb7",
   "metadata": {},
   "outputs": [],
   "source": []
  }
 ],
 "metadata": {
  "kernelspec": {
   "display_name": "Python 3 (ipykernel)",
   "language": "python",
   "name": "python3"
  },
  "language_info": {
   "codemirror_mode": {
    "name": "ipython",
    "version": 3
   },
   "file_extension": ".py",
   "mimetype": "text/x-python",
   "name": "python",
   "nbconvert_exporter": "python",
   "pygments_lexer": "ipython3",
   "version": "3.11.7"
  }
 },
 "nbformat": 4,
 "nbformat_minor": 5
}
